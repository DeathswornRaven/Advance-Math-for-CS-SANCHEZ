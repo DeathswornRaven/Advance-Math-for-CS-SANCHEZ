{
  "nbformat": 4,
  "nbformat_minor": 0,
  "metadata": {
    "colab": {
      "provenance": []
    },
    "kernelspec": {
      "name": "python3",
      "display_name": "Python 3"
    },
    "language_info": {
      "name": "python"
    }
  },
  "cells": [
    {
      "cell_type": "code",
      "execution_count": 1,
      "metadata": {
        "colab": {
          "base_uri": "https://localhost:8080/"
        },
        "id": "rmrZAS63OmNe",
        "outputId": "8f0e8931-f23c-4300-d118-5d8ece9a6afd"
      },
      "outputs": [
        {
          "output_type": "stream",
          "name": "stdout",
          "text": [
            "Generated 3x4 Matrix:\n",
            "[[ 4 14 11 17]\n",
            " [11 16  2 15]\n",
            " [13 16  8  4]]\n",
            "\n",
            "Coefficient Matrix (A):\n",
            "[[ 4 14 11]\n",
            " [11 16  2]\n",
            " [13 16  8]]\n",
            "\n",
            "Right-hand Side Vector (b):\n",
            "[17 15  4]\n"
          ]
        }
      ],
      "source": [
        "import numpy as np\n",
        "# Step 1: Generate a 3x4 random matrix\n",
        "matrix_3x4 = np.random.randint(1, 21, size=(3, 4)) # Adjust range as needed\n",
        "A = matrix_3x4[:, :3] # Coefficient matrix (first 3 columns)\n",
        "b = matrix_3x4[:, 3] # Right-hand side vector (last column)\n",
        "print(\"Generated 3x4 Matrix:\")\n",
        "print(matrix_3x4)\n",
        "print(\"\\nCoefficient Matrix (A):\")\n",
        "print(A)\n",
        "print(\"\\nRight-hand Side Vector (b):\")\n",
        "print(b)"
      ]
    },
    {
      "cell_type": "code",
      "source": [
        "# Solve using Matrix Inverse Method\n",
        "try:\n",
        "    A_inv = np.linalg.inv(A)  # Compute A^-1\n",
        "    x_manual = np.dot(A_inv, b)  # x = A^-1 * b\n",
        "    print(\"\\nSolution using Matrix Inverse Method:\")\n",
        "    print(x_manual)\n",
        "except np.linalg.LinAlgError:\n",
        "    print(\"\\nMatrix A is singular and cannot be inverted.\")\n",
        "\n",
        "# Solve using Gaussian Elimination\n",
        "x_gaussian = np.linalg.solve(A, b)  # Direct Gaussian elimination\n",
        "print(\"\\nSolution using Gaussian Elimination (NumPy):\")\n",
        "print(x_gaussian)\n",
        "\n",
        "# Verify the solution\n",
        "b_check = np.dot(A, x_gaussian)  # Recompute b using A and the computed x\n",
        "print(\"\\nVerification (Ax = b):\")\n",
        "print(b_check)"
      ],
      "metadata": {
        "colab": {
          "base_uri": "https://localhost:8080/"
        },
        "id": "C8XD371aSo53",
        "outputId": "c25866fb-992a-4d52-b188-fba16d7f8356"
      },
      "execution_count": 2,
      "outputs": [
        {
          "output_type": "stream",
          "name": "stdout",
          "text": [
            "\n",
            "Solution using Matrix Inverse Method:\n",
            "[-2.3923445   2.71172249 -1.03588517]\n",
            "\n",
            "Solution using Gaussian Elimination (NumPy):\n",
            "[-2.3923445   2.71172249 -1.03588517]\n",
            "\n",
            "Verification (Ax = b):\n",
            "[17. 15.  4.]\n"
          ]
        }
      ]
    }
  ]
}